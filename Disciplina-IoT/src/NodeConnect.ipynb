{
 "cells": [
  {
   "cell_type": "markdown",
   "id": "25289a43-e61a-456a-98bd-d0f0e8816bce",
   "metadata": {},
   "source": [
    "# Projeto de IoT Básico\n",
    "\n",
    "Conceitos:\n",
    "- O que é IoT (Internet das Coisas)\n",
    "- Como utilizar uma Unidade de MicroControlador (MCU)\n",
    "- O que é um System on a Chip (SoC)\n",
    "- Como programar em Python\n",
    "- Conceito de Sockets\n",
    "- Desenvolvimento HTML Básico"
   ]
  },
  {
   "cell_type": "markdown",
   "id": "ae1f5b0a-6e77-44e1-90b4-34e8c014855a",
   "metadata": {
    "jp-MarkdownHeadingCollapsed": true
   },
   "source": [
    "## Passo 1 - Conectar o computador ao NodeMCU"
   ]
  },
  {
   "cell_type": "markdown",
   "id": "fa0a6a6a-c256-435a-9ddb-d2314d2af77f",
   "metadata": {},
   "source": [
    "A conexão acontece pela [portal serial](1) USB \\\n",
    "[1]: [porta serial](https://pt.wikipedia.org/wiki/Interface_serial)"
   ]
  },
  {
   "cell_type": "code",
   "execution_count": null,
   "id": "d82dc0fa-f0b8-41cd-8987-454d723ce34f",
   "metadata": {
    "vscode": {
     "languageId": "python"
    }
   },
   "outputs": [
    {
     "ename": "",
     "evalue": "",
     "output_type": "error",
     "traceback": [
      "\u001b[1;31mFailed to start the Kernel. \n",
      "\u001b[1;31mView Jupyter <a href='command:jupyter.viewOutput'>log</a> for further details."
     ]
    }
   ],
   "source": [
    "%serialconnect to --port=/dev/cu.usbserial-1130 --baud=9600"
   ]
  },
  {
   "cell_type": "markdown",
   "id": "92045d27-1962-4526-9ceb-61db0746118b",
   "metadata": {},
   "source": [
    "Testar se estamos conectados aos nosso NodeMCU"
   ]
  },
  {
   "cell_type": "code",
   "execution_count": null,
   "id": "f11f1988-199d-4499-aa3a-c60dc3b1da49",
   "metadata": {
    "vscode": {
     "languageId": "python"
    }
   },
   "outputs": [
    {
     "name": "stdout",
     "output_type": "stream",
     "text": [
      "Olá mundo\n"
     ]
    }
   ],
   "source": [
    "print(\"Olá mundo\")"
   ]
  },
  {
   "cell_type": "markdown",
   "id": "54c1119a-cf53-40ff-b67f-7f48380b1e61",
   "metadata": {},
   "source": [
    "## Passo 2 - Desenvolvendo o nosso programa"
   ]
  },
  {
   "cell_type": "markdown",
   "id": "618d9f66-9dcd-476f-9978-121afb4a2d91",
   "metadata": {},
   "source": [
    "Precisamos importar as bibliotecas (pedaços de código extra) que nos ajudam a fazer nosso programa.\n",
    "\n",
    "Primeiro chamamos (importamos) as Bibliotecas básicas de configuração do MCU."
   ]
  },
  {
   "cell_type": "code",
   "execution_count": null,
   "id": "4c7e1138-7adb-4b4b-a6e2-c9877a57b1c3",
   "metadata": {
    "vscode": {
     "languageId": "python"
    }
   },
   "outputs": [],
   "source": [
    "# Desabilita as funções de DEBUG - encontrar bugs\n",
    "import esp\n",
    "esp.osdebug(None)\n",
    "\n",
    "# Limpa a memória do nosso MCU para deixar espaço para o novo código\n",
    "import gc\n",
    "gc.collect()"
   ]
  },
  {
   "cell_type": "markdown",
   "id": "ce8e4006-c600-4c0a-b480-ec0ebe67538b",
   "metadata": {},
   "source": [
    "Conectamos nosso MCU a Internet e pedimos que ele nos diga qual o endereço IP dele."
   ]
  },
  {
   "cell_type": "code",
   "execution_count": null,
   "id": "e6c0d871-8be6-452a-8f23-f4484026d01c",
   "metadata": {
    "vscode": {
     "languageId": "python"
    }
   },
   "outputs": [
    {
     "name": "stdout",
     "output_type": "stream",
     "text": [
      "Connection successful\n",
      "('192.168.1.7', '255.255.255.0', '192.168.1.254', '192.168.1.254')\n"
     ]
    }
   ],
   "source": [
    "import network # Biblioteca da Internet\n",
    "\n",
    "# Dados de acesso ao WiFi\n",
    "ssid = 'ALHN-9036'\n",
    "password = 'QPebX2E@xS'\n",
    "\n",
    "# Coloco o MCU em estado de Estação\n",
    "station = network.WLAN(network.STA_IF)\n",
    "\n",
    "# Ativamos o estado de estação\n",
    "station.active(True)\n",
    "\n",
    "# Estabelecemos a conexão com a Internet\n",
    "station.connect(ssid, password)\n",
    "\n",
    "# Este código se certifica que o MCU se conectou antes de continuar o código\n",
    "while station.isconnected() == False:\n",
    "    \"\"\" enquanto o método isconnected retornar Falso\n",
    "    volte ao Loop sem fazer nada (pass) \"\"\"\n",
    "    pass\n",
    "\n",
    "# Nos informa que a coenxão aconteceu\n",
    "print('Connection successful')\n",
    "\n",
    "# Nos mostra o endereço IP do Node\n",
    "print(station.ifconfig())"
   ]
  },
  {
   "cell_type": "markdown",
   "id": "807288e5-2cd7-4d55-9b2c-5b7deb0c4d7f",
   "metadata": {},
   "source": [
    "Agora vamos fazer nossa página Web e criar um servidor interno no MCU que vai receber a conexão do celular.\n",
    "\n",
    "Além disto, precisamos dizer o que queremos fazer no MCU. No nosso caso, só acender um LED que existe nele."
   ]
  },
  {
   "cell_type": "code",
   "execution_count": null,
   "id": "14a7cfa3-502e-40ad-83dd-1617390b7e08",
   "metadata": {
    "vscode": {
     "languageId": "python"
    }
   },
   "outputs": [],
   "source": [
    "\"\"\" A biblioteca socket cria uma porta no MCU que fica \"escutando\" se alguém está querendo se conectar a ela.\n",
    "    Ela cria a conexão para o nosso servidor.\n",
    " \"\"\"\n",
    "try:\n",
    "  import usocket as socket\n",
    "except:\n",
    "  import socket"
   ]
  },
  {
   "cell_type": "markdown",
   "id": "db50c3cb-d65b-4ab9-b484-bb8fa0d90e7c",
   "metadata": {},
   "source": [
    "Este próximo código nos capacita a ler ou escrever nos pinos digitais do MCU.\n",
    "\n",
    "O NodeMCU possui 16 pinos digitais e 1 analógico, além de portas de energia de 3.3v"
   ]
  },
  {
   "cell_type": "code",
   "execution_count": null,
   "id": "98b8c487-1ff1-4a8a-a362-65c14064ca62",
   "metadata": {
    "vscode": {
     "languageId": "python"
    }
   },
   "outputs": [],
   "source": [
    "# Biblioteca machine me dá as possibilidades de conexão aos pinos do MCU\n",
    "from machine import Pin\n",
    "\n",
    "\"\"\" \n",
    "Aqui estou criando uma variável que vai representar o Pino 2. \n",
    "Preciso dizer como quero usar este pino, neste caso, quero usar ele para saída (OUT) de energia.\n",
    "Como é uma porta digital, tenho somente 2 estados - ON (1) e OFF (0)\n",
    "\"\"\"\n",
    "led = Pin(2, Pin.OUT)"
   ]
  },
  {
   "cell_type": "markdown",
   "id": "e9345be0-da67-4d45-89f1-beb7c95d36de",
   "metadata": {},
   "source": [
    "Antes de mais nada, vamos criar nossa página Web  que servirá como Dashboard de Controle.\n",
    "Ela é um código HTML simples que inicia perguntando ao MCU se o LED tá ligado e nos mostra isso"
   ]
  },
  {
   "cell_type": "code",
   "execution_count": null,
   "id": "7934b545-d65e-468c-a96b-fdf8bfd5a07e",
   "metadata": {
    "vscode": {
     "languageId": "python"
    }
   },
   "outputs": [],
   "source": [
    "def web_page():\n",
    "  if led.value() == 0:\n",
    "    gpio_state=\"ON\"\n",
    "  else:\n",
    "    gpio_state=\"OFF\"\n",
    "  \n",
    "  html = \"\"\"\n",
    "        <html><head>\n",
    "          <title>Web Server da UNIRUY</title>\n",
    "          <meta name=\"viewport\" content=\"width=device-width, initial-scale=1\">\n",
    "          <link rel=\"icon\" href=\"data:,\">\n",
    "          <style>\n",
    "          html{\n",
    "            font-family: Helvetica;\n",
    "            display:inline-block;\n",
    "            margin: 0px auto;\n",
    "            text-align: center;}\n",
    "            header {\n",
    "                display: inline-flexbox;\n",
    "                margin-left: 10%;\n",
    "                margin-right: 10%;\n",
    "            }\n",
    "        \n",
    "          h1{\n",
    "            color: #fc2603;\n",
    "            padding: 2vh;}\n",
    "          p{\n",
    "            font-size: 1.5rem;}\n",
    "          .button{\n",
    "            display: inline-block; \n",
    "            background-color: #e7bd3b; \n",
    "            border: none; \n",
    "            border-radius: 4px; \n",
    "            color: white; \n",
    "            padding: 16px 40px;\n",
    "            text-decoration: none;\n",
    "            font-size: 30px;\n",
    "            margin: 2px;\n",
    "            cursor: pointer;}\n",
    "          .button2{\n",
    "            background-color:#4286f4;}\n",
    "            img {\n",
    "                float: right;\n",
    "            }\n",
    "          </style>\n",
    "          </head>\n",
    "          <body>\n",
    "            <header>\n",
    "                <img src=\"logo.jpg\" width=\"10%\">\n",
    "                <h1>Dashboard de Controle</h1>\n",
    "            </header>\n",
    "            \n",
    "            \n",
    "          <p>Estado LED: <strong>\"\"\" + gpio_state + \"\"\"</strong></p>\n",
    "          <p><a href=\"/?led=on\"><button class=\"button\">ON</button></a></p>\n",
    "          <p><a href=\"/?led=off\"><button class=\"button button2\">OFF</button></a></p>\n",
    "            \n",
    "            </body>\n",
    "        </html>\n",
    "\"\"\"\n",
    "  return html"
   ]
  },
  {
   "cell_type": "markdown",
   "id": "8a6d1134-4c5b-4cfb-91ce-a0b226abbe01",
   "metadata": {},
   "source": [
    "Aqui inicia nosso Servidor Web."
   ]
  },
  {
   "cell_type": "code",
   "execution_count": null,
   "id": "b486ab12-5529-48dd-9bbb-a1aae442e9c9",
   "metadata": {
    "vscode": {
     "languageId": "python"
    }
   },
   "outputs": [
    {
     "name": "stdout",
     "output_type": "stream",
     "text": [
      ".Got a connection from ('192.168.1.4', 41158)\n",
      "Content = b'GET /?led=on HTTP/1.1\\r\\nHost: 192.168.1.7\\r\\nConnection: keep-alive\\r\\nDNT: 1\\r\\nUpgrade-Insecure-Requests: 1\\r\\nUser-Agent: Mozilla/5.0 (Linux; Android 10; K) AppleWebKit/537.36 (KHTML, like Gecko) Chrome/117.0.0.0 Mobile Safari/537.36\\r\\nAccept: text/html,application/xhtml+xml,application/xml;q=0.9,image/avif,image/webp,image/apng,*/*;q=0.8,application/signed-exchange;v=b3;q=0.7\\r\\nReferer: http://192.168.1.7/?led=off\\r\\nAccept-Encoding: gzip, deflate\\r\\nAccept-Language: pt-BR,pt;q=0.9,en-US;q=0.8,en;q=0.7,it-IT;q=0.6,it;q=0.5\\r\\n\\r\\n'\n",
      "LED ON\n",
      "Got a connection from ('192.168.1.4', 41160)\n",
      "Content = b'GET /logo.jpg HTTP/1.1\\r\\nHost: 192.168.1.7\\r\\nConnection: keep-alive\\r\\nUser-Agent: Mozilla/5.0 (Linux; Android 10; K) AppleWebKit/537.36 (KHTML, like Gecko) Chrome/117.0.0.0 Mobile Safari/537.36\\r\\nDNT: 1\\r\\nAccept: image/avif,image/webp,image/apng,image/svg+xml,image/*,*/*;q=0.8\\r\\nReferer: http://192.168.1.7/?led=on\\r\\nAccept-Encoding: gzip, deflate\\r\\nAccept-Language: pt-BR,pt;q=0.9,en-US;q=0.8,en;q=0.7,it-IT;q=0.6,it;q=0.5\\r\\n\\r\\n'\n",
      ".Got a connection from ('192.168.1.4', 41170)\n",
      "Content = b'GET /?led=on HTTP/1.1\\r\\nHost: 192.168.1.7\\r\\nConnection: keep-alive\\r\\nUpgrade-Insecure-Requests: 1\\r\\nDNT: 1\\r\\nUser-Agent: Mozilla/5.0 (Linux; Android 10; K) AppleWebKit/537.36 (KHTML, like Gecko) Chrome/117.0.0.0 Mobile Safari/537.36\\r\\nAccept: text/html,application/xhtml+xml,application/xml;q=0.9,image/avif,image/webp,image/apng,*/*;q=0.8,application/signed-exchange;v=b3;q=0.7\\r\\nReferer: http://192.168.1.7/?led=on\\r\\nAccept-Encoding: gzip, deflate\\r\\nAccept-Language: pt-BR,pt;q=0.9,en-US;q=0.8,en;q=0.7,it-IT;q=0.6,it;q=0.5\\r\\n\\r\\n'\n",
      "LED ON\n",
      "Got a connection from ('192.168.1.4', 41172)\n",
      "Content = b'GET /logo.jpg HTTP/1.1\\r\\nHost: 192.168.1.7\\r\\nConnection: keep-alive\\r\\nUser-Agent: Mozilla/5.0 (Linux; Android 10; K) AppleWebKit/537.36 (KHTML, like Gecko) Chrome/117.0.0.0 Mobile Safari/537.36\\r\\nDNT: 1\\r\\nAccept: image/avif,image/webp,image/apng,image/svg+xml,image/*,*/*;q=0.8\\r\\nReferer: http://192.168.1.7/?led=on\\r\\nAccept-Encoding: gzip, deflate\\r\\nAccept-Language: pt-BR,pt;q=0.9,en-US;q=0.8,en;q=0.7,it-IT;q=0.6,it;q=0.5\\r\\n\\r\\n'\n",
      ".Got a connection from ('192.168.1.4', 41174)\n",
      "Content = b'GET /?led=on HTTP/1.1\\r\\nHost: 192.168.1.7\\r\\nConnection: keep-alive\\r\\nUpgrade-Insecure-Requests: 1\\r\\nDNT: 1\\r\\nUser-Agent: Mozilla/5.0 (Linux; Android 10; K) AppleWebKit/537.36 (KHTML, like Gecko) Chrome/117.0.0.0 Mobile Safari/537.36\\r\\nAccept: text/html,application/xhtml+xml,application/xml;q=0.9,image/avif,image/webp,image/apng,*/*;q=0.8,application/signed-exchange;v=b3;q=0.7\\r\\nReferer: http://192.168.1.7/?led=on\\r\\nAccept-Encoding: gzip, deflate\\r\\nAccept-Language: pt-BR,pt;q=0.9,en-US;q=0.8,en;q=0.7,it-IT;q=0.6,it;q=0.5\\r\\n\\r\\n'\n",
      "LED ON\n",
      "Got a connection from ('192.168.1.4', 41176)\n",
      "Content = b'GET /logo.jpg HTTP/1.1\\r\\nHost: 192.168.1.7\\r\\nConnection: keep-alive\\r\\nUser-Agent: Mozilla/5.0 (Linux; Android 10; K) AppleWebKit/537.36 (KHTML, like Gecko) Chrome/117.0.0.0 Mobile Safari/537.36\\r\\nDNT: 1\\r\\nAccept: image/avif,image/webp,image/apng,image/svg+xml,image/*,*/*;q=0.8\\r\\nReferer: http://192.168.1.7/?led=on\\r\\nAccept-Encoding: gzip, deflate\\r\\nAccept-Language: pt-BR,pt;q=0.9,en-US;q=0.8,en;q=0.7,it-IT;q=0.6,it;q=0.5\\r\\n\\r\\n'\n",
      "Got a connection from ('192.168.1.4', 41178)\n",
      "Content = b'GET /?led=off HTTP/1.1\\r\\nHost: 192.168.1.7\\r\\nConnection: keep-alive\\r\\nUpgrade-Insecure-Requests: 1\\r\\nDNT: 1\\r\\nUser-Agent: Mozilla/5.0 (Linux; Android 10; K) AppleWebKit/537.36 (KHTML, like Gecko) Chrome/117.0.0.0 Mobile Safari/537.36\\r\\nAccept: text/html,application/xhtml+xml,application/xml;q=0.9,image/avif,image/webp,image/apng,*/*;q=0.8,application/signed-exchange;v=b3;q=0.7\\r\\nReferer: http://192.168.1.7/?led=on\\r\\nAccept-Encoding: gzip, deflate\\r\\nAccept-Language: pt-BR,pt;q=0.9,en-US;q=0.8,en;q=0.7,it-IT;q=0.6,it;q=0.5\\r\\n\\r\\n'\n",
      "LED OFF\n",
      "Got a connection from ('192.168.1.4', 41180)\n",
      "Content = b'GET /logo.jpg HTTP/1.1\\r\\nHost: 192.168.1.7\\r\\nConnection: keep-alive\\r\\nUser-Agent: Mozilla/5.0 (Linux; Android 10; K) AppleWebKit/537.36 (KHTML, like Gecko) Chrome/117.0.0.0 Mobile Safari/537.36\\r\\nDNT: 1\\r\\nAccept: image/avif,image/webp,image/apng,image/svg+xml,image/*,*/*;q=0.8\\r\\nReferer: http://192.168.1.7/?led=off\\r\\nAccept-Encoding: gzip, deflate\\r\\nAccept-Language: pt-BR,pt;q=0.9,en-US;q=0.8,en;q=0.7,it-IT;q=0.6,it;q=0.5\\r\\n\\r\\n'\n",
      "Got a connection from ('192.168.1.4', 41182)\n",
      "Content = b'GET /?led=on HTTP/1.1\\r\\nHost: 192.168.1.7\\r\\nConnection: keep-alive\\r\\nUpgrade-Insecure-Requests: 1\\r\\nDNT: 1\\r\\nUser-Agent: Mozilla/5.0 (Linux; Android 10; K) AppleWebKit/537.36 (KHTML, like Gecko) Chrome/117.0.0.0 Mobile Safari/537.36\\r\\nAccept: text/html,application/xhtml+xml,application/xml;q=0.9,image/avif,image/webp,image/apng,*/*;q=0.8,application/signed-exchange;v=b3;q=0.7\\r\\nReferer: http://192.168.1.7/?led=off\\r\\nAccept-Encoding: gzip, deflate\\r\\nAccept-Language: pt-BR,pt;q=0.9,en-US;q=0.8,en;q=0.7,it-IT;q=0.6,it;q=0.5\\r\\n\\r\\n'\n",
      "LED ON\n",
      "Got a connection from ('192.168.1.4', 41184)\n",
      "Content = b'GET /logo.jpg HTTP/1.1\\r\\nHost: 192.168.1.7\\r\\nConnection: keep-alive\\r\\nUser-Agent: Mozilla/5.0 (Linux; Android 10; K) AppleWebKit/537.36 (KHTML, like Gecko) Chrome/117.0.0.0 Mobile Safari/537.36\\r\\nDNT: 1\\r\\nAccept: image/avif,image/webp,image/apng,image/svg+xml,image/*,*/*;q=0.8\\r\\nReferer: http://192.168.1.7/?led=on\\r\\nAccept-Encoding: gzip, deflate\\r\\nAccept-Language: pt-BR,pt;q=0.9,en-US;q=0.8,en;q=0.7,it-IT;q=0.6,it;q=0.5\\r\\n\\r\\n'\n",
      ".Got a connection from ('192.168.1.4', 41192)\n",
      "Content = b'GET /?led=on HTTP/1.1\\r\\nHost: 192.168.1.7\\r\\nConnection: keep-alive\\r\\nCache-Control: max-age=0\\r\\nDNT: 1\\r\\nUpgrade-Insecure-Requests: 1\\r\\nUser-Agent: Mozilla/5.0 (Linux; Android 10; K) AppleWebKit/537.36 (KHTML, like Gecko) Chrome/117.0.0.0 Mobile Safari/537.36\\r\\nAccept: text/html,application/xhtml+xml,application/xml;q=0.9,image/avif,image/webp,image/apng,*/*;q=0.8,application/signed-exchange;v=b3;q=0.7\\r\\nReferer: http://192.168.1.7/?led=off\\r\\nAccept-Encoding: gzip, deflate\\r\\nAccept-Language: pt-BR,pt;q=0.9,en-US;q=0.8,en;q=0.7,it-IT;q=0.6,i'\n",
      "LED ON\n",
      "Got a connection from ('192.168.1.4', 41194)\n",
      "Content = b'GET /logo.jpg HTTP/1.1\\r\\nHost: 192.168.1.7\\r\\nConnection: keep-alive\\r\\nUser-Agent: Mozilla/5.0 (Linux; Android 10; K) AppleWebKit/537.36 (KHTML, like Gecko) Chrome/117.0.0.0 Mobile Safari/537.36\\r\\nDNT: 1\\r\\nAccept: image/avif,image/webp,image/apng,image/svg+xml,image/*,*/*;q=0.8\\r\\nReferer: http://192.168.1.7/?led=on\\r\\nAccept-Encoding: gzip, deflate\\r\\nAccept-Language: pt-BR,pt;q=0.9,en-US;q=0.8,en;q=0.7,it-IT;q=0.6,it;q=0.5\\r\\n\\r\\n'\n",
      "Got a connection from ('192.168.1.4', 41196)\n",
      "Content = b'GET /?led=off HTTP/1.1\\r\\nHost: 192.168.1.7\\r\\nConnection: keep-alive\\r\\nUpgrade-Insecure-Requests: 1\\r\\nDNT: 1\\r\\nUser-Agent: Mozilla/5.0 (Linux; Android 10; K) AppleWebKit/537.36 (KHTML, like Gecko) Chrome/117.0.0.0 Mobile Safari/537.36\\r\\nAccept: text/html,application/xhtml+xml,application/xml;q=0.9,image/avif,image/webp,image/apng,*/*;q=0.8,application/signed-exchange;v=b3;q=0.7\\r\\nReferer: http://192.168.1.7/?led=on\\r\\nAccept-Encoding: gzip, deflate\\r\\nAccept-Language: pt-BR,pt;q=0.9,en-US;q=0.8,en;q=0.7,it-IT;q=0.6,it;q=0.5\\r\\n\\r\\n'\n",
      "LED OFF\n",
      "Got a connection from ('192.168.1.4', 41198)\n",
      "Content = b'GET /logo.jpg HTTP/1.1\\r\\nHost: 192.168.1.7\\r\\nConnection: keep-alive\\r\\nUser-Agent: Mozilla/5.0 (Linux; Android 10; K) AppleWebKit/537.36 (KHTML, like Gecko) Chrome/117.0.0.0 Mobile Safari/537.36\\r\\nDNT: 1\\r\\nAccept: image/avif,image/webp,image/apng,image/svg+xml,image/*,*/*;q=0.8\\r\\nReferer: http://192.168.1.7/?led=off\\r\\nAccept-Encoding: gzip, deflate\\r\\nAccept-Language: pt-BR,pt;q=0.9,en-US;q=0.8,en;q=0.7,it-IT;q=0.6,it;q=0.5\\r\\n\\r\\n'\n",
      "Got a connection from ('192.168.1.4', 41200)\n",
      "Content = b'GET /?led=on HTTP/1.1\\r\\nHost: 192.168.1.7\\r\\nConnection: keep-alive\\r\\nUpgrade-Insecure-Requests: 1\\r\\nDNT: 1\\r\\nUser-Agent: Mozilla/5.0 (Linux; Android 10; K) AppleWebKit/537.36 (KHTML, like Gecko) Chrome/117.0.0.0 Mobile Safari/537.36\\r\\nAccept: text/html,application/xhtml+xml,application/xml;q=0.9,image/avif,image/webp,image/apng,*/*;q=0.8,application/signed-exchange;v=b3;q=0.7\\r\\nReferer: http://192.168.1.7/?led=off\\r\\nAccept-Encoding: gzip, deflate\\r\\nAccept-Language: pt-BR,pt;q=0.9,en-US;q=0.8,en;q=0.7,it-IT;q=0.6,it;q=0.5\\r\\n\\r\\n'\n",
      "LED ON\n",
      "Got a connection from ('192.168.1.4', 41202)\n",
      "Content = b'GET /logo.jpg HTTP/1.1\\r\\nHost: 192.168.1.7\\r\\nConnection: keep-alive\\r\\nUser-Agent: Mozilla/5.0 (Linux; Android 10; K) AppleWebKit/537.36 (KHTML, like Gecko) Chrome/117.0.0.0 Mobile Safari/537.36\\r\\nDNT: 1\\r\\nAccept: image/avif,image/webp,image/apng,image/svg+xml,image/*,*/*;q=0.8\\r\\nReferer: http://192.168.1.7/?led=on\\r\\nAccept-Encoding: gzip, deflate\\r\\nAccept-Language: pt-BR,pt;q=0.9,en-US;q=0.8,en;q=0.7,it-IT;q=0.6,it;q=0.5\\r\\n\\r\\n'\n",
      ".Got a connection from ('192.168.1.4', 41208)\n",
      "Content = b'GET /?led=off HTTP/1.1\\r\\nHost: 192.168.1.7\\r\\nConnection: keep-alive\\r\\nUpgrade-Insecure-Requests: 1\\r\\nDNT: 1\\r\\nUser-Agent: Mozilla/5.0 (Linux; Android 10; K) AppleWebKit/537.36 (KHTML, like Gecko) Chrome/117.0.0.0 Mobile Safari/537.36\\r\\nAccept: text/html,application/xhtml+xml,application/xml;q=0.9,image/avif,image/webp,image/apng,*/*;q=0.8,application/signed-exchange;v=b3;q=0.7\\r\\nReferer: http://192.168.1.7/?led=on\\r\\nAccept-Encoding: gzip, deflate\\r\\nAccept-Language: pt-BR,pt;q=0.9,en-US;q=0.8,en;q=0.7,it-IT;q=0.6,it;q=0.5\\r\\n\\r\\n'\n",
      "LED OFF\n",
      "Got a connection from ('192.168.1.4', 41210)\n",
      "Content = b'GET /logo.jpg HTTP/1.1\\r\\nHost: 192.168.1.7\\r\\nConnection: keep-alive\\r\\nUser-Agent: Mozilla/5.0 (Linux; Android 10; K) AppleWebKit/537.36 (KHTML, like Gecko) Chrome/117.0.0.0 Mobile Safari/537.36\\r\\nDNT: 1\\r\\nAccept: image/avif,image/webp,image/apng,image/svg+xml,image/*,*/*;q=0.8\\r\\nReferer: http://192.168.1.7/?led=off\\r\\nAccept-Encoding: gzip, deflate\\r\\nAccept-Language: pt-BR,pt;q=0.9,en-US;q=0.8,en;q=0.7,it-IT;q=0.6,it;q=0.5\\r\\n\\r\\n'\n",
      "Got a connection from ('192.168.1.4', 41212)\n",
      "Content = b'GET /?led=on HTTP/1.1\\r\\nHost: 192.168.1.7\\r\\nConnection: keep-alive\\r\\nUpgrade-Insecure-Requests: 1\\r\\nDNT: 1\\r\\nUser-Agent: Mozilla/5.0 (Linux; Android 10; K) AppleWebKit/537.36 (KHTML, like Gecko) Chrome/117.0.0.0 Mobile Safari/537.36\\r\\nAccept: text/html,application/xhtml+xml,application/xml;q=0.9,image/avif,image/webp,image/apng,*/*;q=0.8,application/signed-exchange;v=b3;q=0.7\\r\\nReferer: http://192.168.1.7/?led=off\\r\\nAccept-Encoding: gzip, deflate\\r\\nAccept-Language: pt-BR,pt;q=0.9,en-US;q=0.8,en;q=0.7,it-IT;q=0.6,it;q=0.5\\r\\n\\r\\n'\n",
      "LED ON\n",
      "Got a connection from ('192.168.1.4', 41214)\n",
      "Content = b'GET /logo.jpg HTTP/1.1\\r\\nHost: 192.168.1.7\\r\\nConnection: keep-alive\\r\\nUser-Agent: Mozilla/5.0 (Linux; Android 10; K) AppleWebKit/537.36 (KHTML, like Gecko) Chrome/117.0.0.0 Mobile Safari/537.36\\r\\nDNT: 1\\r\\nAccept: image/avif,image/webp,image/apng,image/svg+xml,image/*,*/*;q=0.8\\r\\nReferer: http://192.168.1.7/?led=on\\r\\nAccept-Encoding: gzip, deflate\\r\\nAccept-Language: pt-BR,pt;q=0.9,en-US;q=0.8,en;q=0.7,it-IT;q=0.6,it;q=0.5\\r\\n\\r\\n'\n",
      "..................................................\n",
      "**[ys] <class 'serial.serialutil.SerialException'>\n",
      "**[ys] read failed: [Errno 6] Device not configured\n",
      "\n",
      "\n",
      "**[ys] <class 'serial.serialutil.SerialException'>\n",
      "**[ys] read failed: [Errno 6] Device not configured\n",
      "\n"
     ]
    }
   ],
   "source": [
    "# Iniciamos o socket com um tipo STREAM TCP (para conexões Web)\n",
    "s = socket.socket(socket.AF_INET, socket.SOCK_STREAM)\n",
    "\n",
    "# Dizemos a ele para se conectar através da porta 80 - portão padrão da Web\n",
    "s.bind(('', 80))\n",
    "\n",
    "# E dizemos que ele pode aceitar até 5 conexões simultâneas\n",
    "s.listen(5)\n",
    "\n",
    "\n",
    "while True: # Loop eterno até fecharmos o Servidor (desligar da energia)\n",
    "  # O método accept aceita a conexão do cliente e cria um novo socket conn e salva o endereço do cliente\n",
    "  conn, addr = s.accept()\n",
    "    # mostramos o endereço do cliente\n",
    "  print('Got a connection from %s' % str(addr))\n",
    "\n",
    "    # Recebemos (recv) do cliente o que ele quer nos mandar\n",
    "  request = conn.recv(1024)\n",
    "  request = str(request)\n",
    "    # Aqui mostramos o que o cliente nos madou\n",
    "  print('Content = %s' % request)\n",
    "    # Vemos se o cliente apertou o botão ON ou OFF pelo endereço da página\n",
    "  led_on = request.find('/?led=on')\n",
    "  led_off = request.find('/?led=off')\n",
    "\n",
    "    # de acordo com o botão apertado, ligamos ou desligamos o LED\n",
    "  if led_on == 6:\n",
    "    print('LED ON')\n",
    "    led.value(0)\n",
    "  if led_off == 6:\n",
    "    print('LED OFF')\n",
    "    led.value(1)\n",
    "      # Aqui mandamos a resposta ao cliente com a página da Web\n",
    "  response = web_page()\n",
    "  conn.send('HTTP/1.1 200 OK\\n')\n",
    "  conn.send('Content-Type: text/html\\n')\n",
    "  conn.send('Connection: close\\n\\n')\n",
    "  conn.sendall(response)\n",
    "  conn.close()"
   ]
  }
 ],
 "metadata": {
  "kernelspec": {
   "display_name": "MicroPython - USB",
   "language": "micropython",
   "name": "micropython"
  },
  "language_info": {
   "codemirror_mode": {
    "name": "ipython",
    "version": 3
   },
   "file_extension": ".py",
   "mimetype": "text/x-python",
   "name": "micropython",
   "nbconvert_exporter": "python",
   "pygments_lexer": "ipython3",
   "version": "3.10.16"
  }
 },
 "nbformat": 4,
 "nbformat_minor": 5
}
